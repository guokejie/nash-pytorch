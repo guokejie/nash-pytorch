{
 "cells": [
  {
   "cell_type": "code",
   "id": "initial_id",
   "metadata": {
    "collapsed": true,
    "ExecuteTime": {
     "end_time": "2025-07-13T11:16:40.255925Z",
     "start_time": "2025-07-13T11:16:40.249698Z"
    }
   },
   "source": [
    "import numpy as np\n",
    "import torch\n",
    "from torch import nn"
   ],
   "outputs": [],
   "execution_count": 10
  },
  {
   "metadata": {},
   "cell_type": "markdown",
   "source": "### 1.sigmoid",
   "id": "de2614399c918af5"
  },
  {
   "metadata": {},
   "cell_type": "markdown",
   "source": [
    "$$\n",
    "\\begin{equation}\n",
    "\\begin{split}\n",
    "\\sigma(x)=&\\frac{1}{1+\\exp(-x)}\\\\\n",
    "\\sigma'(x)=&\\frac{1}{1+\\exp(-x)} \\cdot\\left(\\frac{\\exp(-x)}{1+\\exp(-x)}\\right)\\\\\n",
    "=&\\sigma(x) \\cdot(1-\\sigma(x))\n",
    "\\end{split}\n",
    "\\end{equation}\n",
    "$$"
   ],
   "id": "94c833417b8b9f0c"
  },
  {
   "metadata": {
    "ExecuteTime": {
     "end_time": "2025-07-13T11:16:42.789287Z",
     "start_time": "2025-07-13T11:16:42.769971Z"
    }
   },
   "cell_type": "code",
   "source": "x = torch.tensor(1., requires_grad=True)",
   "id": "9649178b2c0a1165",
   "outputs": [],
   "execution_count": 11
  },
  {
   "metadata": {
    "ExecuteTime": {
     "end_time": "2025-07-13T11:16:43.129910Z",
     "start_time": "2025-07-13T11:16:43.113124Z"
    }
   },
   "cell_type": "code",
   "source": "x",
   "id": "8d1a053f4bd85d0d",
   "outputs": [
    {
     "data": {
      "text/plain": [
       "tensor(1., requires_grad=True)"
      ]
     },
     "execution_count": 12,
     "metadata": {},
     "output_type": "execute_result"
    }
   ],
   "execution_count": 12
  },
  {
   "metadata": {
    "ExecuteTime": {
     "end_time": "2025-07-13T11:16:43.474612Z",
     "start_time": "2025-07-13T11:16:43.452765Z"
    }
   },
   "cell_type": "code",
   "source": [
    "y = x.sigmoid()\n",
    "y"
   ],
   "id": "3521e906feef18ef",
   "outputs": [
    {
     "data": {
      "text/plain": [
       "tensor(0.7311, grad_fn=<SigmoidBackward0>)"
      ]
     },
     "execution_count": 13,
     "metadata": {},
     "output_type": "execute_result"
    }
   ],
   "execution_count": 13
  },
  {
   "metadata": {
    "ExecuteTime": {
     "end_time": "2025-07-13T11:16:43.754670Z",
     "start_time": "2025-07-13T11:16:43.741139Z"
    }
   },
   "cell_type": "code",
   "source": "1 / (1 + np.exp(-1))",
   "id": "6975ebe4cad32ab",
   "outputs": [
    {
     "data": {
      "text/plain": [
       "0.7310585786300049"
      ]
     },
     "execution_count": 14,
     "metadata": {},
     "output_type": "execute_result"
    }
   ],
   "execution_count": 14
  },
  {
   "metadata": {
    "ExecuteTime": {
     "end_time": "2025-07-13T11:16:44.039293Z",
     "start_time": "2025-07-13T11:16:44.030Z"
    }
   },
   "cell_type": "code",
   "source": [
    "# 求导\n",
    "y.backward()"
   ],
   "id": "3931a841bfa14209",
   "outputs": [],
   "execution_count": 15
  },
  {
   "metadata": {
    "ExecuteTime": {
     "end_time": "2025-07-13T11:16:44.339545Z",
     "start_time": "2025-07-13T11:16:44.330116Z"
    }
   },
   "cell_type": "code",
   "source": "x.grad",
   "id": "2312bc0bc7737b20",
   "outputs": [
    {
     "data": {
      "text/plain": [
       "tensor(0.1966)"
      ]
     },
     "execution_count": 16,
     "metadata": {},
     "output_type": "execute_result"
    }
   ],
   "execution_count": 16
  },
  {
   "metadata": {
    "ExecuteTime": {
     "end_time": "2025-07-13T11:16:44.922631Z",
     "start_time": "2025-07-13T11:16:44.909789Z"
    }
   },
   "cell_type": "code",
   "source": "x.sigmoid() * (1 - x.sigmoid())",
   "id": "fb4d178c3513eb84",
   "outputs": [
    {
     "data": {
      "text/plain": [
       "tensor(0.1966, grad_fn=<MulBackward0>)"
      ]
     },
     "execution_count": 17,
     "metadata": {},
     "output_type": "execute_result"
    }
   ],
   "execution_count": 17
  },
  {
   "metadata": {},
   "cell_type": "markdown",
   "source": "### 1.1 多元形式",
   "id": "b76c1a2129601fde"
  },
  {
   "metadata": {},
   "cell_type": "markdown",
   "source": [
    "\\begin{aligned}\n",
    "&y: \\mathbb{R}^n \\to \\mathbb{R} \\\\\n",
    "&y = \\sum_{i} \\sigma(x_i) = \\sigma(x_1) + \\sigma(x_2) + \\sigma(x_3) + \\cdots \\\\\n",
    "&\\frac{\\partial y}{\\partial x_1} = \\frac{\\partial y}{\\partial \\sigma(x_1)} \\cdot \\frac{\\partial \\sigma(x_1)}{\\partial x_1} = 1 \\cdot \\sigma'(x_1) = \\sigma(x_1) \\cdot (1 - \\sigma(x_1)) \\\\\n",
    "&\\frac{\\partial y}{\\partial x_2} = \\frac{\\partial y}{\\partial \\sigma(x_2)} \\cdot \\frac{\\partial \\sigma(x_2)}{\\partial x_2} = 1 \\cdot \\sigma'(x_2) = \\sigma(x_2) \\cdot (1 - \\sigma(x_2)) \\\\\n",
    "\\end{aligned}"
   ],
   "id": "4468ded8dee271b5"
  },
  {
   "metadata": {
    "ExecuteTime": {
     "end_time": "2025-07-13T11:19:59.752515Z",
     "start_time": "2025-07-13T11:19:59.740565Z"
    }
   },
   "cell_type": "code",
   "source": [
    "x = torch.tensor([1., 2., 3.], requires_grad=True)\n",
    "x"
   ],
   "id": "edd37fb6c40d9d00",
   "outputs": [
    {
     "data": {
      "text/plain": [
       "tensor([1., 2., 3.], requires_grad=True)"
      ]
     },
     "execution_count": 18,
     "metadata": {},
     "output_type": "execute_result"
    }
   ],
   "execution_count": 18
  },
  {
   "metadata": {
    "ExecuteTime": {
     "end_time": "2025-07-13T11:20:21.450089Z",
     "start_time": "2025-07-13T11:20:21.419316Z"
    }
   },
   "cell_type": "code",
   "source": [
    "y = x.sigmoid().sum()\n",
    "y"
   ],
   "id": "98ba58c8b610d6bf",
   "outputs": [
    {
     "data": {
      "text/plain": [
       "tensor(2.5644, grad_fn=<SumBackward0>)"
      ]
     },
     "execution_count": 19,
     "metadata": {},
     "output_type": "execute_result"
    }
   ],
   "execution_count": 19
  },
  {
   "metadata": {
    "ExecuteTime": {
     "end_time": "2025-07-13T11:20:48.483828Z",
     "start_time": "2025-07-13T11:20:48.468200Z"
    }
   },
   "cell_type": "code",
   "source": "x.sigmoid()",
   "id": "b2a4c167d2647207",
   "outputs": [
    {
     "data": {
      "text/plain": [
       "tensor([0.7311, 0.8808, 0.9526], grad_fn=<SigmoidBackward0>)"
      ]
     },
     "execution_count": 20,
     "metadata": {},
     "output_type": "execute_result"
    }
   ],
   "execution_count": 20
  },
  {
   "metadata": {
    "ExecuteTime": {
     "end_time": "2025-07-13T11:21:17.864045Z",
     "start_time": "2025-07-13T11:21:17.857008Z"
    }
   },
   "cell_type": "code",
   "source": "0.7311 + 0.8808 + 0.9526",
   "id": "8a4f18e2058aa6fc",
   "outputs": [
    {
     "data": {
      "text/plain": [
       "2.5645"
      ]
     },
     "execution_count": 21,
     "metadata": {},
     "output_type": "execute_result"
    }
   ],
   "execution_count": 21
  },
  {
   "metadata": {
    "ExecuteTime": {
     "end_time": "2025-07-13T11:21:34.250085Z",
     "start_time": "2025-07-13T11:21:34.231026Z"
    }
   },
   "cell_type": "code",
   "source": "x.grad",
   "id": "ec999ddfd98705da",
   "outputs": [],
   "execution_count": 23
  },
  {
   "metadata": {
    "ExecuteTime": {
     "end_time": "2025-07-13T11:21:41.383586Z",
     "start_time": "2025-07-13T11:21:41.367168Z"
    }
   },
   "cell_type": "code",
   "source": "y.backward()",
   "id": "7f471cbdc13993ea",
   "outputs": [],
   "execution_count": 24
  },
  {
   "metadata": {
    "ExecuteTime": {
     "end_time": "2025-07-13T11:21:49.916800Z",
     "start_time": "2025-07-13T11:21:49.893392Z"
    }
   },
   "cell_type": "code",
   "source": "x.grad",
   "id": "3142b8a9dc6db08c",
   "outputs": [
    {
     "data": {
      "text/plain": [
       "tensor([0.1966, 0.1050, 0.0452])"
      ]
     },
     "execution_count": 25,
     "metadata": {},
     "output_type": "execute_result"
    }
   ],
   "execution_count": 25
  },
  {
   "metadata": {
    "ExecuteTime": {
     "end_time": "2025-07-13T11:22:18.266195Z",
     "start_time": "2025-07-13T11:22:18.249805Z"
    }
   },
   "cell_type": "code",
   "source": "x.sigmoid() * (1 - x.sigmoid())",
   "id": "678f9d8c3757a489",
   "outputs": [
    {
     "data": {
      "text/plain": [
       "tensor([0.1966, 0.1050, 0.0452], grad_fn=<MulBackward0>)"
      ]
     },
     "execution_count": 26,
     "metadata": {},
     "output_type": "execute_result"
    }
   ],
   "execution_count": 26
  },
  {
   "metadata": {},
   "cell_type": "markdown",
   "source": "### 1.2自定义函数",
   "id": "6a24b3dc0b396551"
  },
  {
   "metadata": {},
   "cell_type": "markdown",
   "source": [
    "\\begin{aligned}\n",
    "y &= \\sigma^2(x) \\\\\n",
    "y' &= 2\\sigma(x) \\cdot (\\sigma'(x)) = 2\\sigma(x) \\cdot (\\sigma(x)(1 - \\sigma(x))) \\\\\n",
    "\\end{aligned}"
   ],
   "id": "2dfbfb1dea01c83c"
  },
  {
   "metadata": {
    "ExecuteTime": {
     "end_time": "2025-07-13T11:25:01.806104Z",
     "start_time": "2025-07-13T11:25:01.786104Z"
    }
   },
   "cell_type": "code",
   "source": "x = torch.tensor(2., requires_grad=True)",
   "id": "7b57acf91494408",
   "outputs": [],
   "execution_count": 27
  },
  {
   "metadata": {
    "ExecuteTime": {
     "end_time": "2025-07-13T11:25:25.077910Z",
     "start_time": "2025-07-13T11:25:25.070911Z"
    }
   },
   "cell_type": "code",
   "source": "y = x.sigmoid() * x.sigmoid()",
   "id": "1936fb1d14c5e9dc",
   "outputs": [],
   "execution_count": 28
  },
  {
   "metadata": {
    "ExecuteTime": {
     "end_time": "2025-07-13T11:25:27.945632Z",
     "start_time": "2025-07-13T11:25:27.930008Z"
    }
   },
   "cell_type": "code",
   "source": "y",
   "id": "e6d5e2e29ff9a53e",
   "outputs": [
    {
     "data": {
      "text/plain": [
       "tensor(0.7758, grad_fn=<MulBackward0>)"
      ]
     },
     "execution_count": 29,
     "metadata": {},
     "output_type": "execute_result"
    }
   ],
   "execution_count": 29
  },
  {
   "metadata": {
    "ExecuteTime": {
     "end_time": "2025-07-13T11:25:33.550829Z",
     "start_time": "2025-07-13T11:25:33.535052Z"
    }
   },
   "cell_type": "code",
   "source": "x.grad",
   "id": "5eb492c2af817adf",
   "outputs": [],
   "execution_count": 30
  },
  {
   "metadata": {
    "ExecuteTime": {
     "end_time": "2025-07-13T11:25:37.479217Z",
     "start_time": "2025-07-13T11:25:37.456769Z"
    }
   },
   "cell_type": "code",
   "source": "y.backward()",
   "id": "a0c4d3637c955838",
   "outputs": [],
   "execution_count": 31
  },
  {
   "metadata": {
    "ExecuteTime": {
     "end_time": "2025-07-13T11:25:43.778655Z",
     "start_time": "2025-07-13T11:25:43.765655Z"
    }
   },
   "cell_type": "code",
   "source": "x.grad",
   "id": "1d5ad51eba073d48",
   "outputs": [
    {
     "data": {
      "text/plain": [
       "tensor(0.1850)"
      ]
     },
     "execution_count": 32,
     "metadata": {},
     "output_type": "execute_result"
    }
   ],
   "execution_count": 32
  },
  {
   "metadata": {
    "ExecuteTime": {
     "end_time": "2025-07-13T11:26:15.628470Z",
     "start_time": "2025-07-13T11:26:15.619755Z"
    }
   },
   "cell_type": "code",
   "source": "2 * x.sigmoid() * (x.sigmoid() * (1 - x.sigmoid()))",
   "id": "48b9b2b999f31142",
   "outputs": [
    {
     "data": {
      "text/plain": [
       "tensor(0.1850, grad_fn=<MulBackward0>)"
      ]
     },
     "execution_count": 35,
     "metadata": {},
     "output_type": "execute_result"
    }
   ],
   "execution_count": 35
  },
  {
   "metadata": {},
   "cell_type": "code",
   "outputs": [],
   "execution_count": null,
   "source": "",
   "id": "e31ef2c6fd50313"
  }
 ],
 "metadata": {
  "kernelspec": {
   "display_name": "Python 3",
   "language": "python",
   "name": "python3"
  },
  "language_info": {
   "codemirror_mode": {
    "name": "ipython",
    "version": 2
   },
   "file_extension": ".py",
   "mimetype": "text/x-python",
   "name": "python",
   "nbconvert_exporter": "python",
   "pygments_lexer": "ipython2",
   "version": "2.7.6"
  }
 },
 "nbformat": 4,
 "nbformat_minor": 5
}
