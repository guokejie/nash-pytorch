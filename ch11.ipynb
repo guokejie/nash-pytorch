{
 "cells": [
  {
   "metadata": {},
   "cell_type": "markdown",
   "source": "### P11.nn.MultiheadAttention, init/forward, 及 query，key，value 的计算细节",
   "id": "8c098d78c38cf269"
  },
  {
   "metadata": {},
   "cell_type": "code",
   "outputs": [],
   "execution_count": null,
   "source": "",
   "id": "9122675e890d9ee1"
  }
 ],
 "metadata": {
  "kernelspec": {
   "display_name": "Python 3",
   "language": "python",
   "name": "python3"
  },
  "language_info": {
   "codemirror_mode": {
    "name": "ipython",
    "version": 2
   },
   "file_extension": ".py",
   "mimetype": "text/x-python",
   "name": "python",
   "nbconvert_exporter": "python",
   "pygments_lexer": "ipython2",
   "version": "2.7.6"
  }
 },
 "nbformat": 4,
 "nbformat_minor": 5
}
