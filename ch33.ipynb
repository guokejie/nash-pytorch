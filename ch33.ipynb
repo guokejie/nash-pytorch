{
 "cells": [
  {
   "metadata": {},
   "cell_type": "markdown",
   "source": "### Dropout 基本原理（前向计算与自动求导）",
   "id": "3eb8142343707c1d"
  },
  {
   "metadata": {
    "ExecuteTime": {
     "end_time": "2025-07-13T01:50:48.324461Z",
     "start_time": "2025-07-13T01:50:48.298433Z"
    }
   },
   "cell_type": "code",
   "source": [
    "import torch\n",
    "from torch import nn\n",
    "\n",
    "torch.manual_seed(0)"
   ],
   "id": "244e1f2409ee831c",
   "outputs": [
    {
     "data": {
      "text/plain": [
       "<torch._C.Generator at 0x21dd7429c50>"
      ]
     },
     "execution_count": 5,
     "metadata": {},
     "output_type": "execute_result"
    }
   ],
   "execution_count": 5
  },
  {
   "metadata": {},
   "cell_type": "markdown",
   "source": [
    "#### forward\n",
    "- 输入依概率p取0\n",
    "- 然后×$\\frac{1}{1-p}$"
   ],
   "id": "c861872cf164ab17"
  },
  {
   "metadata": {
    "ExecuteTime": {
     "end_time": "2025-07-13T01:50:48.578388Z",
     "start_time": "2025-07-13T01:50:48.568542Z"
    }
   },
   "cell_type": "code",
   "source": [
    "m = nn.Dropout(0.4)\n",
    "\n",
    "input_ = torch.randn(5, requires_grad=True)\n",
    "input_"
   ],
   "id": "3d12d79a319f4bf7",
   "outputs": [
    {
     "data": {
      "text/plain": [
       "tensor([ 1.5410, -0.2934, -2.1788,  0.5684, -1.0845], requires_grad=True)"
      ]
     },
     "execution_count": 6,
     "metadata": {},
     "output_type": "execute_result"
    }
   ],
   "execution_count": 6
  },
  {
   "metadata": {
    "ExecuteTime": {
     "end_time": "2025-07-13T01:50:48.907650Z",
     "start_time": "2025-07-13T01:50:48.900651Z"
    }
   },
   "cell_type": "code",
   "source": [
    "out = m(input_)\n",
    "out"
   ],
   "id": "4005937f287c9e1d",
   "outputs": [
    {
     "data": {
      "text/plain": [
       "tensor([ 0.0000, -0.4890, -0.0000,  0.9474, -1.8075], grad_fn=<MulBackward0>)"
      ]
     },
     "execution_count": 7,
     "metadata": {},
     "output_type": "execute_result"
    }
   ],
   "execution_count": 7
  },
  {
   "metadata": {
    "ExecuteTime": {
     "end_time": "2025-07-13T01:54:53.731331Z",
     "start_time": "2025-07-13T01:54:53.715667Z"
    }
   },
   "cell_type": "code",
   "source": "-0.2934*(1/(1-0.4))",
   "id": "7887703cb1ba1777",
   "outputs": [
    {
     "data": {
      "text/plain": [
       "-0.489"
      ]
     },
     "execution_count": 10,
     "metadata": {},
     "output_type": "execute_result"
    }
   ],
   "execution_count": 10
  },
  {
   "metadata": {},
   "cell_type": "code",
   "outputs": [],
   "execution_count": null,
   "source": "",
   "id": "3a4b502708eb0a20"
  }
 ],
 "metadata": {
  "kernelspec": {
   "display_name": "Python 3",
   "language": "python",
   "name": "python3"
  },
  "language_info": {
   "codemirror_mode": {
    "name": "ipython",
    "version": 2
   },
   "file_extension": ".py",
   "mimetype": "text/x-python",
   "name": "python",
   "nbconvert_exporter": "python",
   "pygments_lexer": "ipython2",
   "version": "2.7.6"
  }
 },
 "nbformat": 4,
 "nbformat_minor": 5
}
