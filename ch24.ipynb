{
 "cells": [
  {
   "metadata": {},
   "cell_type": "markdown",
   "source": "### P24 nn.Embedding前向查表索引过程与one hot关系",
   "id": "2645e4668a0883a3"
  },
  {
   "cell_type": "code",
   "id": "initial_id",
   "metadata": {
    "collapsed": true,
    "ExecuteTime": {
     "end_time": "2025-07-13T01:11:19.995949Z",
     "start_time": "2025-07-13T01:11:11.931531Z"
    }
   },
   "source": [
    "import torch\n",
    "from torch import nn\n",
    "from torch.nn import functional as F"
   ],
   "outputs": [],
   "execution_count": 1
  },
  {
   "metadata": {
    "ExecuteTime": {
     "end_time": "2025-07-13T01:16:06.558012Z",
     "start_time": "2025-07-13T01:16:06.483756Z"
    }
   },
   "cell_type": "code",
   "source": "torch.manual_seed(0)",
   "id": "5232cd17fc6a9c94",
   "outputs": [
    {
     "data": {
      "text/plain": [
       "<torch._C.Generator at 0x19e182e5c50>"
      ]
     },
     "execution_count": 4,
     "metadata": {},
     "output_type": "execute_result"
    }
   ],
   "execution_count": 4
  },
  {
   "metadata": {
    "ExecuteTime": {
     "end_time": "2025-07-13T01:16:11.283288Z",
     "start_time": "2025-07-13T01:16:11.267607Z"
    }
   },
   "cell_type": "code",
   "source": [
    "# 词表长度10，每一个词对应3维\n",
    "embedding = nn.Embedding(10, 3)"
   ],
   "id": "ea07c444a18cb37a",
   "outputs": [],
   "execution_count": 5
  },
  {
   "metadata": {
    "ExecuteTime": {
     "end_time": "2025-07-13T01:16:11.881522Z",
     "start_time": "2025-07-13T01:16:11.866521Z"
    }
   },
   "cell_type": "code",
   "source": "embedding.weight",
   "id": "eecd646b1b084b5",
   "outputs": [
    {
     "data": {
      "text/plain": [
       "Parameter containing:\n",
       "tensor([[-1.1258, -1.1524, -0.2506],\n",
       "        [-0.4339,  0.8487,  0.6920],\n",
       "        [-0.3160, -2.1152,  0.3223],\n",
       "        [-1.2633,  0.3500,  0.3081],\n",
       "        [ 0.1198,  1.2377, -0.1435],\n",
       "        [-0.1116, -0.6136,  0.0316],\n",
       "        [-0.4927,  0.2484,  0.4397],\n",
       "        [ 0.1124, -0.8411, -2.3160],\n",
       "        [-0.1023,  0.7924, -0.2897],\n",
       "        [ 0.0525,  0.5229,  2.3022]], requires_grad=True)"
      ]
     },
     "execution_count": 6,
     "metadata": {},
     "output_type": "execute_result"
    }
   ],
   "execution_count": 6
  },
  {
   "metadata": {
    "ExecuteTime": {
     "end_time": "2025-07-13T01:16:58.797497Z",
     "start_time": "2025-07-13T01:16:58.782498Z"
    }
   },
   "cell_type": "code",
   "source": [
    "# 2个句子，每个句子4个词\n",
    "# b = 2, s = 4\n",
    "input = torch.LongTensor([[1, 2, 4, 5],\n",
    "                          [4, 3, 2, 9]])"
   ],
   "id": "9823fd996fd53f06",
   "outputs": [],
   "execution_count": 7
  },
  {
   "metadata": {
    "ExecuteTime": {
     "end_time": "2025-07-13T01:18:44.610797Z",
     "start_time": "2025-07-13T01:18:44.576907Z"
    }
   },
   "cell_type": "code",
   "source": [
    "# (b, s, ) => (b, s, h)\n",
    "embedding(input)"
   ],
   "id": "1882bba913d6562b",
   "outputs": [
    {
     "data": {
      "text/plain": [
       "tensor([[[-0.4339,  0.8487,  0.6920],\n",
       "         [-0.3160, -2.1152,  0.3223],\n",
       "         [ 0.1198,  1.2377, -0.1435],\n",
       "         [-0.1116, -0.6136,  0.0316]],\n",
       "\n",
       "        [[ 0.1198,  1.2377, -0.1435],\n",
       "         [-1.2633,  0.3500,  0.3081],\n",
       "         [-0.3160, -2.1152,  0.3223],\n",
       "         [ 0.0525,  0.5229,  2.3022]]], grad_fn=<EmbeddingBackward0>)"
      ]
     },
     "execution_count": 8,
     "metadata": {},
     "output_type": "execute_result"
    }
   ],
   "execution_count": 8
  },
  {
   "metadata": {},
   "cell_type": "raw",
   "source": "1.2 one-hot矩阵乘法",
   "id": "dd2acb72bc9f0f5f"
  },
  {
   "metadata": {
    "ExecuteTime": {
     "end_time": "2025-07-13T01:21:33.018824Z",
     "start_time": "2025-07-13T01:21:33.000846Z"
    }
   },
   "cell_type": "code",
   "source": [
    "# num_classes == vocab_size\n",
    "# (b, s) => (b, s, v)\n",
    "# 以[1, 2, 4, 5]为例，\n",
    "# - 1的位置为0，其余为0，即 [0, 1, 0, 0, 0, 0, 0, 0, 0, 0]，以此类推\n",
    "input_onehot = F.one_hot(input, num_classes=10)\n",
    "print(input_onehot.shape)\n",
    "input_onehot"
   ],
   "id": "7bb1f11ad7afee70",
   "outputs": [
    {
     "name": "stdout",
     "output_type": "stream",
     "text": [
      "torch.Size([2, 4, 10])\n"
     ]
    },
    {
     "data": {
      "text/plain": [
       "tensor([[[0, 1, 0, 0, 0, 0, 0, 0, 0, 0],\n",
       "         [0, 0, 1, 0, 0, 0, 0, 0, 0, 0],\n",
       "         [0, 0, 0, 0, 1, 0, 0, 0, 0, 0],\n",
       "         [0, 0, 0, 0, 0, 1, 0, 0, 0, 0]],\n",
       "\n",
       "        [[0, 0, 0, 0, 1, 0, 0, 0, 0, 0],\n",
       "         [0, 0, 0, 1, 0, 0, 0, 0, 0, 0],\n",
       "         [0, 0, 1, 0, 0, 0, 0, 0, 0, 0],\n",
       "         [0, 0, 0, 0, 0, 0, 0, 0, 0, 1]]])"
      ]
     },
     "execution_count": 10,
     "metadata": {},
     "output_type": "execute_result"
    }
   ],
   "execution_count": 10
  },
  {
   "metadata": {
    "ExecuteTime": {
     "end_time": "2025-07-13T01:24:10.512600Z",
     "start_time": "2025-07-13T01:24:10.496975Z"
    }
   },
   "cell_type": "code",
   "source": "embedding.weight.shape",
   "id": "b76cc9b7a4e80e5b",
   "outputs": [
    {
     "data": {
      "text/plain": [
       "torch.Size([10, 3])"
      ]
     },
     "execution_count": 11,
     "metadata": {},
     "output_type": "execute_result"
    }
   ],
   "execution_count": 11
  },
  {
   "metadata": {
    "ExecuteTime": {
     "end_time": "2025-07-13T01:27:33.834916Z",
     "start_time": "2025-07-13T01:27:33.800630Z"
    }
   },
   "cell_type": "code",
   "source": [
    "# input_onehot.shape: (b, s, v)\n",
    "# embedding.weight.shape: (v, h)\n",
    "# (b, s, h)\n",
    "torch.matmul(input_onehot.type(torch.float32),embedding.weight.type(torch.float32))"
   ],
   "id": "1785f5c7ab19eb40",
   "outputs": [
    {
     "data": {
      "text/plain": [
       "tensor([[[-0.4339,  0.8487,  0.6920],\n",
       "         [-0.3160, -2.1152,  0.3223],\n",
       "         [ 0.1198,  1.2377, -0.1435],\n",
       "         [-0.1116, -0.6136,  0.0316]],\n",
       "\n",
       "        [[ 0.1198,  1.2377, -0.1435],\n",
       "         [-1.2633,  0.3500,  0.3081],\n",
       "         [-0.3160, -2.1152,  0.3223],\n",
       "         [ 0.0525,  0.5229,  2.3022]]], grad_fn=<UnsafeViewBackward0>)"
      ]
     },
     "execution_count": 12,
     "metadata": {},
     "output_type": "execute_result"
    }
   ],
   "execution_count": 12
  },
  {
   "metadata": {},
   "cell_type": "code",
   "outputs": [],
   "execution_count": null,
   "source": "",
   "id": "342d680977a5ad11"
  }
 ],
 "metadata": {
  "kernelspec": {
   "display_name": "Python 3",
   "language": "python",
   "name": "python3"
  },
  "language_info": {
   "codemirror_mode": {
    "name": "ipython",
    "version": 2
   },
   "file_extension": ".py",
   "mimetype": "text/x-python",
   "name": "python",
   "nbconvert_exporter": "python",
   "pygments_lexer": "ipython2",
   "version": "2.7.6"
  }
 },
 "nbformat": 4,
 "nbformat_minor": 5
}
