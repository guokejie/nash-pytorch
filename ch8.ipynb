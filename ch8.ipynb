{
 "cells": [
  {
   "metadata": {},
   "cell_type": "markdown",
   "source": "### P8.深度理解`nn.CrossEntropyLoss`",
   "id": "e15276361ed155b3"
  },
  {
   "metadata": {
    "ExecuteTime": {
     "end_time": "2025-07-13T02:48:15.741381Z",
     "start_time": "2025-07-13T02:48:15.719414Z"
    }
   },
   "cell_type": "code",
   "source": [
    "import torch\n",
    "from torch import nn\n",
    "\n",
    "torch.manual_seed(0)"
   ],
   "id": "a25a6d406bf301a8",
   "outputs": [
    {
     "data": {
      "text/plain": [
       "<torch._C.Generator at 0x19373037c50>"
      ]
     },
     "execution_count": 14,
     "metadata": {},
     "output_type": "execute_result"
    }
   ],
   "execution_count": 14
  },
  {
   "metadata": {
    "ExecuteTime": {
     "end_time": "2025-07-13T02:48:17.731345Z",
     "start_time": "2025-07-13T02:48:17.721138Z"
    }
   },
   "cell_type": "code",
   "source": [
    "loss = nn.CrossEntropyLoss()\n",
    "\n",
    "input = torch.randn(3, 5, requires_grad=True)\n",
    "input"
   ],
   "id": "3144ba31cafb6204",
   "outputs": [
    {
     "data": {
      "text/plain": [
       "tensor([[ 1.5410, -0.2934, -2.1788,  0.5684, -1.0845],\n",
       "        [-1.3986,  0.4033,  0.8380, -0.7193, -0.4033],\n",
       "        [-0.5966,  0.1820, -0.8567,  1.1006, -1.0712]], requires_grad=True)"
      ]
     },
     "execution_count": 15,
     "metadata": {},
     "output_type": "execute_result"
    }
   ],
   "execution_count": 15
  },
  {
   "metadata": {},
   "cell_type": "markdown",
   "source": "这里的(3, 5)表示有3个样本，是一个5分类的任务，其具体的值如上所示。",
   "id": "5261f869811010e"
  },
  {
   "metadata": {
    "ExecuteTime": {
     "end_time": "2025-07-13T01:35:28.732566Z",
     "start_time": "2025-07-13T01:35:28.716937Z"
    }
   },
   "cell_type": "code",
   "source": [
    "target = torch.empty(3, dtype=torch.long).random_(5)\n",
    "target"
   ],
   "id": "2a05adffe2bcbe4a",
   "outputs": [
    {
     "data": {
      "text/plain": [
       "tensor([3, 0, 0])"
      ]
     },
     "execution_count": 8,
     "metadata": {},
     "output_type": "execute_result"
    }
   ],
   "execution_count": 8
  },
  {
   "metadata": {
    "ExecuteTime": {
     "end_time": "2025-07-13T01:35:38.619750Z",
     "start_time": "2025-07-13T01:35:38.588500Z"
    }
   },
   "cell_type": "code",
   "source": "loss(input, target)",
   "id": "de43d9ba89686c",
   "outputs": [
    {
     "data": {
      "text/plain": [
       "tensor(2.2729, grad_fn=<NllLossBackward0>)"
      ]
     },
     "execution_count": 9,
     "metadata": {},
     "output_type": "execute_result"
    }
   ],
   "execution_count": 9
  },
  {
   "metadata": {},
   "cell_type": "markdown",
   "source": "具体计算过程如下",
   "id": "9e71eb0f74e20d28"
  },
  {
   "metadata": {
    "ExecuteTime": {
     "end_time": "2025-07-13T01:36:05.582485Z",
     "start_time": "2025-07-13T01:36:05.552492Z"
    }
   },
   "cell_type": "code",
   "source": [
    "# 1. 对(3, 5)的行，进行softmax，按行进行累加结果为1\n",
    "softmax = nn.Softmax(dim=1)\n",
    "softmax(input)"
   ],
   "id": "6808381f939c52b0",
   "outputs": [
    {
     "data": {
      "text/plain": [
       "tensor([[0.6118, 0.0977, 0.0148, 0.2313, 0.0443],\n",
       "        [0.0474, 0.2873, 0.4437, 0.0935, 0.1282],\n",
       "        [0.0997, 0.2172, 0.0769, 0.5442, 0.0620]], grad_fn=<SoftmaxBackward0>)"
      ]
     },
     "execution_count": 10,
     "metadata": {},
     "output_type": "execute_result"
    }
   ],
   "execution_count": 10
  },
  {
   "metadata": {
    "ExecuteTime": {
     "end_time": "2025-07-13T01:36:18.796765Z",
     "start_time": "2025-07-13T01:36:18.768594Z"
    }
   },
   "cell_type": "code",
   "source": [
    "# 2. 对softmax后的值进行取对数\n",
    "torch.log(softmax(input))"
   ],
   "id": "8db76913cabf4bf2",
   "outputs": [
    {
     "data": {
      "text/plain": [
       "tensor([[-0.4913, -2.3257, -4.2111, -1.4639, -3.1168],\n",
       "        [-3.0493, -1.2474, -0.8127, -2.3700, -2.0541],\n",
       "        [-2.3056, -1.5270, -2.5657, -0.6084, -2.7802]], grad_fn=<LogBackward0>)"
      ]
     },
     "execution_count": 11,
     "metadata": {},
     "output_type": "execute_result"
    }
   ],
   "execution_count": 11
  },
  {
   "metadata": {
    "ExecuteTime": {
     "end_time": "2025-07-13T01:37:41.661766Z",
     "start_time": "2025-07-13T01:37:41.630494Z"
    }
   },
   "cell_type": "code",
   "source": [
    "# 3.将对应的target相加，取平均然后再取负数：\n",
    "-((-1.4639) + (-3.0493) + (-2.3056)) / 3"
   ],
   "id": "e25af4802ad120db",
   "outputs": [
    {
     "data": {
      "text/plain": [
       "2.2729333333333335"
      ]
     },
     "execution_count": 13,
     "metadata": {},
     "output_type": "execute_result"
    }
   ],
   "execution_count": 13
  },
  {
   "metadata": {},
   "cell_type": "markdown",
   "source": "发现结果是一致的",
   "id": "9ff1e51dea85e99a"
  },
  {
   "metadata": {},
   "cell_type": "code",
   "outputs": [],
   "execution_count": null,
   "source": "",
   "id": "cf59ddd52e498808"
  }
 ],
 "metadata": {
  "kernelspec": {
   "display_name": "Python 3",
   "language": "python",
   "name": "python3"
  },
  "language_info": {
   "codemirror_mode": {
    "name": "ipython",
    "version": 2
   },
   "file_extension": ".py",
   "mimetype": "text/x-python",
   "name": "python",
   "nbconvert_exporter": "python",
   "pygments_lexer": "ipython2",
   "version": "2.7.6"
  }
 },
 "nbformat": 4,
 "nbformat_minor": 5
}
